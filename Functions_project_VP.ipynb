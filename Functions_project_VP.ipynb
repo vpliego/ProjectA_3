{
 "cells": [
  {
   "cell_type": "code",
   "execution_count": 3,
   "id": "3736773e-1abb-4717-b750-f521c8b9252c",
   "metadata": {},
   "outputs": [],
   "source": [
    "def homework_check(done_hw = None, total_num_hw = 10, week = 3, class_name = \"SDS 271\"): \n",
    "        if done_hw == None:\n",
    "            print(\"Please enter the total amount of homework you have done for your SDS 271 class this week: \")\n",
    "        elif done_hw < 0:\n",
    "            print(\"Sorry! I can't take in negative values. Please enter a positive value.\")\n",
    "        elif done_hw >= total_num_hw:\n",
    "            print(\"Great job! It appears you have completed all assignents that are due for week {} for your {} class!\".format(week, class_name))  \n",
    "        else:\n",
    "            num_hw_left = total_num_hw - done_hw\n",
    "            print(\"Hello student! It's week {} and there are {} assignemnts still due this week for your {} class.\".format(week, num_hw_left, class_name))\n",
    "    "
   ]
  },
  {
   "cell_type": "markdown",
   "id": "a0d3a04a-5811-4638-952b-1cc98aa1bb6e",
   "metadata": {},
   "source": [
    "The function above, named homework_check, should be used as a mini and simple homework tracker for students in SDS 271 to use for week 3 of classes. Assuming SDS 271 has 10 assignments students must turn in for week 3, students will be able to input the amount of homework assignments they have completed and the function should let them know how many more homework assignments they must do in order to meet the week deadline. To test the function, I made a few if statements that should prompt the user to adjust the number they enter in. For example, the function will not be able to work if a student enters a negative value and will instead be prompted to enter a positive value. Upon thinking further on this, it might also be helpful to not allow users to input decimals or fractions in as it wouldn't really be easy to understand and interpret having about 3.643 of assignments left to do for week 3. If a user doesn't input anything into the function, then they will be prompted to enter an amount. If the user inputs a value that is equal to or larger than the amount due for week 3 (10), then they will be notified that they have completed the amount of assignments due for week 3. Otherwise, this function will do a simple calculation and let the student know the amount of assingments they have due for the class in week 3. "
   ]
  },
  {
   "cell_type": "markdown",
   "id": "340131f0-1ab1-41d3-acac-c5ff73d1b78f",
   "metadata": {},
   "source": [
    "Test cases: "
   ]
  },
  {
   "cell_type": "code",
   "execution_count": 4,
   "id": "d4053598-6f4c-47ff-b8a3-1340b170a0bc",
   "metadata": {},
   "outputs": [
    {
     "name": "stdout",
     "output_type": "stream",
     "text": [
      "Please enter the total amount of homework you have done for your SDS 271 class this week: \n"
     ]
    }
   ],
   "source": [
    "#test case 1: no input value for done_hw\n",
    "homework_check()"
   ]
  },
  {
   "cell_type": "markdown",
   "id": "7fe0061c-fd84-4a7d-81ec-fb228af9d81c",
   "metadata": {},
   "source": [
    "In the case that the user does not input any value for homework that they have already completed, we implement the first if statement in our code above that will prompt the user to enter the total amount of homework they have completed for that class on that week. If this if statement was not there, then this function would break and the user wouldn't even know that they had to input a value for the number of homework they had already completed. "
   ]
  },
  {
   "cell_type": "code",
   "execution_count": 5,
   "id": "8f52c273-e8a9-40c1-a88c-ff1922aedec4",
   "metadata": {},
   "outputs": [
    {
     "name": "stdout",
     "output_type": "stream",
     "text": [
      "Sorry! I can't take in negative values. Please enter a positive value.\n"
     ]
    }
   ],
   "source": [
    "#test case 2: negative values\n",
    "homework_check(done_hw = -100) "
   ]
  },
  {
   "cell_type": "markdown",
   "id": "c6c935e0-5dbe-40fb-a97a-7bb28c21dca9",
   "metadata": {},
   "source": [
    "In the case that a user enters a value that is negative for the amount of homework they have done, this function will return that it cannot take in negative values and can therefore not calculate a value for the user. We combat this issue by implementing yet another if statement (but within the if statement already mentioned above) that does not allow the user to input negative values or values below 0, and prints a message to the user that they must input a positive value. "
   ]
  },
  {
   "cell_type": "code",
   "execution_count": 6,
   "id": "5c9792f4-f5ae-47f7-946e-3a2b1195856e",
   "metadata": {},
   "outputs": [
    {
     "name": "stdout",
     "output_type": "stream",
     "text": [
      "Hello student! It's week 3 and there are 10 assignemnts still due this week for your SDS 271 class.\n"
     ]
    }
   ],
   "source": [
    "#test case 3: testing the overall use of our function \n",
    "homework_check(done_hw = 0) "
   ]
  },
  {
   "cell_type": "markdown",
   "id": "a88a6c59-b1b1-46bd-9032-715a0ad255a7",
   "metadata": {},
   "source": [
    "When a user inputs a value, that is not negative, for the amount of homework they have already completed for their SDS 271 class on that particular week, the function will then follow to our else statment and calculate how many assingments they still must complete for that week. Above, we input the value 0 and get a message that tells us we still need to do 10 assignments for our SDS 271 class in week 3. "
   ]
  }
 ],
 "metadata": {
  "kernelspec": {
   "display_name": "Python 3 (ipykernel)",
   "language": "python",
   "name": "python3"
  },
  "language_info": {
   "codemirror_mode": {
    "name": "ipython",
    "version": 3
   },
   "file_extension": ".py",
   "mimetype": "text/x-python",
   "name": "python",
   "nbconvert_exporter": "python",
   "pygments_lexer": "ipython3",
   "version": "3.8.10"
  }
 },
 "nbformat": 4,
 "nbformat_minor": 5
}
