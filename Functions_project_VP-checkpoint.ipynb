{
 "cells": [
  {
   "cell_type": "code",
   "execution_count": 1,
   "id": "3736773e-1abb-4717-b750-f521c8b9252c",
   "metadata": {},
   "outputs": [],
   "source": [
    "def homework_check(done_hw = None, total_num_hw = 10, week = 3, class_name = \"SDS 271\"): \n",
    "        if done_hw == None:\n",
    "            print(\"Please enter the total amount of homework you have done for your SDS 271 class this week: \")\n",
    "        elif done_hw < 0:\n",
    "            print(\"Sorry! I can't take in negative values. Please enter a positive value.\")\n",
    "        elif done_hw >= total_num_hw:\n",
    "            print(\"Great job! It appears you have completed all assignents that are due for week {} for your {} class!\".format(week, class_name))  \n",
    "        else:\n",
    "            num_hw_left = total_num_hw - done_hw\n",
    "            print(\"Hello student! It's week {} and there are {} assignemnts still due this week for your {} class.\".format(week, num_hw_left, class_name))\n",
    "    "
   ]
  },
  {
   "cell_type": "markdown",
   "id": "a0d3a04a-5811-4638-952b-1cc98aa1bb6e",
   "metadata": {},
   "source": [
    "The function above, named homework_check, should be used as a mini and simple homework tracker for students in SDS 271 to use for week 3 of classes. Assuming SDS 271 has 10 assignments students must turn in for week 3, students will be able to input the amount of homework assignments they have completed and the function should let them know how many more homework assignments they must do in order to meet the week deadline. To test the function, I made a few if statements that should prompt the user to adjust the number they enter in. For example, the function will not be able to work if a student enters a negative value and will instead be prompted to enter a positive value. Upon thinking further on this, it might also be helpful to not allow users to input decimals or fractions in as it wouldn't really be easy to understand and interpret having about 3.643 of assignments left to do for week 3. If a user doesn't input anything into the function, then they will be prompted to enter an amount. If the user inputs a value that is equal to or larger than the amount due for week 3 (10), then they will be notified that they have completed the amount of assignments due for week 3. Otherwise, this function will do a simple calculation and let the student know the amount of assingments they have due for the class in week 3. "
   ]
  },
  {
   "cell_type": "markdown",
   "id": "d9d5a3a8-0562-47a2-bbcf-50274f3019c0",
   "metadata": {},
   "source": [
    "<div class=\"alert alert-warning\">\n",
    "This looks pretty good, but I'd like to see you actually going through the process of checking the function yourself in the notebook. That's part of the assignment: \"demonstrate two use cases and show how the function meets those.\"\n",
    "</div>"
   ]
  },
  {
   "cell_type": "markdown",
   "id": "64d48b5a-a2ea-44c2-88b9-1af845faa40c",
   "metadata": {},
   "source": [
    "**Grade: N/A**\n",
    "\n",
    "Since this is the first project and this seems to be a miscommunication issue, I'll accept a resubmission with the tests as if it's the first submission, and then I will give detailed feedback on that version."
   ]
  },
  {
   "cell_type": "code",
   "execution_count": null,
   "id": "a5045126-00b4-494e-8d8f-718f25badb4f",
   "metadata": {},
   "outputs": [],
   "source": []
  }
 ],
 "metadata": {
  "kernelspec": {
   "display_name": "Python 3 (ipykernel)",
   "language": "python",
   "name": "python3"
  },
  "language_info": {
   "codemirror_mode": {
    "name": "ipython",
    "version": 3
   },
   "file_extension": ".py",
   "mimetype": "text/x-python",
   "name": "python",
   "nbconvert_exporter": "python",
   "pygments_lexer": "ipython3",
   "version": "3.8.10"
  }
 },
 "nbformat": 4,
 "nbformat_minor": 5
}
