{
 "cells": [
  {
   "cell_type": "code",
   "execution_count": 1,
   "id": "0ed6dcbe-2411-460a-bd3f-ec1b2ebbe41a",
   "metadata": {},
   "outputs": [],
   "source": [
    "def name(first_name):\n",
    "    print(\"Hello, {}\".format(first_name))"
   ]
  },
  {
   "cell_type": "code",
   "execution_count": 2,
   "id": "e888943e-9fa1-42bb-a710-64c831325943",
   "metadata": {},
   "outputs": [
    {
     "name": "stdout",
     "output_type": "stream",
     "text": [
      "Hello, Melissa\n"
     ]
    }
   ],
   "source": [
    "name(\"Melissa\")"
   ]
  },
  {
   "cell_type": "code",
   "execution_count": 9,
   "id": "c58cb928-a21b-4e25-b5a8-faecb2753a3e",
   "metadata": {},
   "outputs": [],
   "source": [
    "def full_name(name1, name2 = \"Student\"):\n",
    "    print(\"Hello, {} {}\".format(name1,name2))"
   ]
  },
  {
   "cell_type": "code",
   "execution_count": 13,
   "id": "d39ef09b-b0d1-445c-b585-393f03e3eb2b",
   "metadata": {},
   "outputs": [
    {
     "name": "stdout",
     "output_type": "stream",
     "text": [
      "Hello, Vanessa Student\n"
     ]
    }
   ],
   "source": [
    "full_name(\"Vanessa\")"
   ]
  },
  {
   "cell_type": "code",
   "execution_count": 27,
   "id": "e0baac11-1472-42e1-8f44-5e82af16bb37",
   "metadata": {},
   "outputs": [],
   "source": [
    "def office_hours(day = None):\n",
    "    if day == None:\n",
    "        print(\"Please enter a day\")\n",
    "    elif day == \"Monday\":\n",
    "        print(\"Casey's office hours are from 10-11AM\")\n",
    "    elif day == \"Tuesday\":\n",
    "        print(\"Casey's office hours are from 1-2PM\")\n",
    "    else: \n",
    "        print(\"Casey doesn't have office hours today, try calendly\")"
   ]
  },
  {
   "cell_type": "code",
   "execution_count": 28,
   "id": "2bd8afbe-7ff7-4ad0-9d8d-48d885208f2d",
   "metadata": {},
   "outputs": [
    {
     "name": "stdout",
     "output_type": "stream",
     "text": [
      "Please enter a day\n"
     ]
    }
   ],
   "source": [
    "office_hours()"
   ]
  },
  {
   "cell_type": "markdown",
   "id": "d9f3f4f5-9b1b-44de-a3a6-45de154e1b1d",
   "metadata": {},
   "source": [
    "I realized that I needed to make sure a day was specified, so I added a line to check if day = None and ask for the user to enter a day. Example of this below:"
   ]
  },
  {
   "cell_type": "code",
   "execution_count": 29,
   "id": "924019cb-372e-4f5f-8b19-70a310230300",
   "metadata": {},
   "outputs": [
    {
     "name": "stdout",
     "output_type": "stream",
     "text": [
      "Please enter a day\n"
     ]
    }
   ],
   "source": [
    "office_hours()"
   ]
  },
  {
   "cell_type": "code",
   "execution_count": 39,
   "id": "4261ea29-11f1-4d65-bd3b-7430d47d2173",
   "metadata": {},
   "outputs": [],
   "source": [
    "def long_print_statement(class_name, class_number, days, dept = \"SDS\", college = \"Smith College\"):\n",
    "    print(\"The class {} has the number {} {} and meets on {} at {}\".format(class_name, dept, class_number, days, college))"
   ]
  },
  {
   "cell_type": "code",
   "execution_count": 40,
   "id": "1be46670-bad5-4893-8f03-1a84e5b4202c",
   "metadata": {},
   "outputs": [
    {
     "name": "stdout",
     "output_type": "stream",
     "text": [
      "The class Programming for Data Science in Python has the number SDS 271 and meets on Tu/Th at Smith College\n"
     ]
    }
   ],
   "source": [
    "long_print_statement(\"Programming for Data Science in Python\", \"271\", \"Tu/Th\")"
   ]
  },
  {
   "cell_type": "code",
   "execution_count": 42,
   "id": "08b1edbd-6e93-4afe-b068-9716278fa26e",
   "metadata": {},
   "outputs": [
    {
     "name": "stdout",
     "output_type": "stream",
     "text": [
      "The class Introductory Physics has the number PHY 117 and meets on MTWF at Smith College\n"
     ]
    }
   ],
   "source": [
    "long_print_statement(\"Introductory Physics\", 117, \"MTWF\", \"PHY\")"
   ]
  },
  {
   "cell_type": "code",
   "execution_count": 45,
   "id": "78c5548b-cb38-4579-98cb-c5a8a3a3c57e",
   "metadata": {},
   "outputs": [
    {
     "name": "stdout",
     "output_type": "stream",
     "text": [
      "The class Programming for Data Science in Python has the number SDS 271 and meets on Tu/Th at Amherst College\n"
     ]
    }
   ],
   "source": [
    "long_print_statement(\"Programming for Data Science in Python\", \"271\", \"Tu/Th\", college = \"Amherst College\")"
   ]
  },
  {
   "cell_type": "code",
   "execution_count": 46,
   "id": "b55fccc3-d78b-45f3-b5e2-280295bfb4ed",
   "metadata": {},
   "outputs": [],
   "source": [
    "def weeks_left(curr_week,num_weeks_semester = 14):\n",
    "    num_weeks_left = num_weeks_semester - curr_week \n",
    "    print(\"It's week {} and there are {} weeks left this semester\".format(curr_week,num_weeks_left))"
   ]
  },
  {
   "cell_type": "code",
   "execution_count": 47,
   "id": "302c7b2f-53da-4227-bcb1-8f795382b948",
   "metadata": {},
   "outputs": [
    {
     "name": "stdout",
     "output_type": "stream",
     "text": [
      "It's week 3 and there are 11 weeks left this semester\n"
     ]
    }
   ],
   "source": [
    "weeks_left(3)"
   ]
  },
  {
   "cell_type": "code",
   "execution_count": null,
   "id": "0913961b-36fb-4ac6-8534-d676c5518c5d",
   "metadata": {},
   "outputs": [],
   "source": []
  }
 ],
 "metadata": {
  "kernelspec": {
   "display_name": "Python 3 (ipykernel)",
   "language": "python",
   "name": "python3"
  },
  "language_info": {
   "codemirror_mode": {
    "name": "ipython",
    "version": 3
   },
   "file_extension": ".py",
   "mimetype": "text/x-python",
   "name": "python",
   "nbconvert_exporter": "python",
   "pygments_lexer": "ipython3",
   "version": "3.8.10"
  }
 },
 "nbformat": 4,
 "nbformat_minor": 5
}
